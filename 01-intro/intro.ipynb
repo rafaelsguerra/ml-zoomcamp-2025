{
 "cells": [
  {
   "cell_type": "code",
   "execution_count": 1,
   "id": "e276c51c",
   "metadata": {},
   "outputs": [],
   "source": [
    "import pandas as pd\n",
    "import numpy as np"
   ]
  },
  {
   "cell_type": "markdown",
   "id": "eaf44977",
   "metadata": {},
   "source": [
    "## 1. pandas version"
   ]
  },
  {
   "cell_type": "code",
   "execution_count": 2,
   "id": "745ed3e3",
   "metadata": {},
   "outputs": [
    {
     "data": {
      "text/plain": [
       "'2.3.3'"
      ]
     },
     "execution_count": 2,
     "metadata": {},
     "output_type": "execute_result"
    }
   ],
   "source": [
    "pd.__version__"
   ]
  },
  {
   "cell_type": "markdown",
   "id": "32cb591d",
   "metadata": {},
   "source": [
    "## 2. Records count"
   ]
  },
  {
   "cell_type": "code",
   "execution_count": 3,
   "id": "b36aabc1",
   "metadata": {},
   "outputs": [
    {
     "data": {
      "text/plain": [
       "['--2025-10-02 13:55:23--  https://raw.githubusercontent.com/alexeygrigorev/datasets/master/car_fuel_efficiency.csv',\n",
       " 'Resolving raw.githubusercontent.com (raw.githubusercontent.com)... 185.199.108.133, 185.199.110.133, 185.199.111.133, ...',\n",
       " 'Connecting to raw.githubusercontent.com (raw.githubusercontent.com)|185.199.108.133|:443... connected.',\n",
       " 'HTTP request sent, awaiting response... 200 OK',\n",
       " 'Length: 874188 (854K) [text/plain]',\n",
       " 'Saving to: ‘car_fuel_efficiency.csv.1’',\n",
       " '',\n",
       " '     0K .......... .......... .......... .......... ..........  5% 3.66M 0s',\n",
       " '    50K .......... .......... .......... .......... .......... 11% 14.1M 0s',\n",
       " '   100K .......... .......... .......... .......... .......... 17% 3.83M 0s',\n",
       " '   150K .......... .......... .......... .......... .......... 23% 12.1M 0s',\n",
       " '   200K .......... .......... .......... .......... .......... 29% 12.1M 0s',\n",
       " '   250K .......... .......... .......... .......... .......... 35% 14.1M 0s',\n",
       " '   300K .......... .......... .......... .......... .......... 40% 9.21M 0s',\n",
       " '   350K .......... .......... .......... .......... .......... 46% 8.71M 0s',\n",
       " '   400K .......... .......... .......... .......... .......... 52% 9.79M 0s',\n",
       " '   450K .......... .......... .......... .......... .......... 58% 2.09M 0s',\n",
       " '   500K .......... .......... .......... .......... .......... 64% 22.2M 0s',\n",
       " '   550K .......... .......... .......... .......... .......... 70% 24.8M 0s',\n",
       " '   600K .......... .......... .......... .......... .......... 76%  246M 0s',\n",
       " '   650K .......... .......... .......... .......... .......... 81% 6.58M 0s',\n",
       " '   700K .......... .......... .......... .......... .......... 87%  175M 0s',\n",
       " '   750K .......... .......... .......... .......... .......... 93%  196M 0s',\n",
       " '   800K .......... .......... .......... .......... .......... 99%  204M 0s',\n",
       " '   850K ...                                                   100% 89.3M=0.09s',\n",
       " '',\n",
       " '2025-10-02 13:55:23 (8.96 MB/s) - ‘car_fuel_efficiency.csv.1’ saved [874188/874188]',\n",
       " '']"
      ]
     },
     "execution_count": 3,
     "metadata": {},
     "output_type": "execute_result"
    }
   ],
   "source": [
    "!! wget https://raw.githubusercontent.com/alexeygrigorev/datasets/master/car_fuel_efficiency.csv"
   ]
  },
  {
   "cell_type": "code",
   "execution_count": 4,
   "id": "a79c1d66",
   "metadata": {},
   "outputs": [
    {
     "data": {
      "text/plain": [
       "(9704, 11)"
      ]
     },
     "execution_count": 4,
     "metadata": {},
     "output_type": "execute_result"
    }
   ],
   "source": [
    "data = pd.read_csv(\"car_fuel_efficiency.csv\")\n",
    "\n",
    "data.shape"
   ]
  },
  {
   "cell_type": "markdown",
   "id": "76bc7986",
   "metadata": {},
   "source": [
    "## 3. Fuel Types"
   ]
  },
  {
   "cell_type": "code",
   "execution_count": 5,
   "id": "00fabda7",
   "metadata": {},
   "outputs": [
    {
     "data": {
      "text/plain": [
       "fuel_type\n",
       "Gasoline    4898\n",
       "Diesel      4806\n",
       "Name: count, dtype: int64"
      ]
     },
     "execution_count": 5,
     "metadata": {},
     "output_type": "execute_result"
    }
   ],
   "source": [
    "data['fuel_type'].value_counts()"
   ]
  },
  {
   "cell_type": "markdown",
   "id": "065c1117",
   "metadata": {},
   "source": [
    "## 4. Missing values"
   ]
  },
  {
   "cell_type": "code",
   "execution_count": 6,
   "id": "7ea8d409",
   "metadata": {},
   "outputs": [
    {
     "data": {
      "text/plain": [
       "engine_displacement      0\n",
       "num_cylinders          482\n",
       "horsepower             708\n",
       "vehicle_weight           0\n",
       "acceleration           930\n",
       "model_year               0\n",
       "origin                   0\n",
       "fuel_type                0\n",
       "drivetrain               0\n",
       "num_doors              502\n",
       "fuel_efficiency_mpg      0\n",
       "dtype: int64"
      ]
     },
     "execution_count": 6,
     "metadata": {},
     "output_type": "execute_result"
    }
   ],
   "source": [
    "data.isna().sum()"
   ]
  },
  {
   "cell_type": "markdown",
   "id": "c171fe60",
   "metadata": {},
   "source": [
    "## 5. Max fuel efficiency"
   ]
  },
  {
   "cell_type": "code",
   "execution_count": 7,
   "id": "312ec80a",
   "metadata": {},
   "outputs": [
    {
     "data": {
      "text/plain": [
       "np.float64(23.759122836520497)"
      ]
     },
     "execution_count": 7,
     "metadata": {},
     "output_type": "execute_result"
    }
   ],
   "source": [
    "data[data['origin'] == \"Asia\"]['fuel_efficiency_mpg'].max()"
   ]
  },
  {
   "cell_type": "markdown",
   "id": "df76298c",
   "metadata": {},
   "source": [
    "## 6. Median value of horsepower"
   ]
  },
  {
   "cell_type": "code",
   "execution_count": 8,
   "id": "8474e106",
   "metadata": {},
   "outputs": [
    {
     "data": {
      "text/plain": [
       "np.float64(149.0)"
      ]
     },
     "execution_count": 8,
     "metadata": {},
     "output_type": "execute_result"
    }
   ],
   "source": [
    "data['horsepower'].median()"
   ]
  },
  {
   "cell_type": "code",
   "execution_count": 9,
   "id": "42e2271b",
   "metadata": {},
   "outputs": [
    {
     "data": {
      "text/plain": [
       "np.float64(152.0)"
      ]
     },
     "execution_count": 9,
     "metadata": {},
     "output_type": "execute_result"
    }
   ],
   "source": [
    "data['horsepower'].value_counts().index[0]"
   ]
  },
  {
   "cell_type": "code",
   "execution_count": 10,
   "id": "5ace9da2",
   "metadata": {},
   "outputs": [
    {
     "data": {
      "text/plain": [
       "np.float64(152.0)"
      ]
     },
     "execution_count": 10,
     "metadata": {},
     "output_type": "execute_result"
    }
   ],
   "source": [
    "data['horsepower'].fillna(152).median()"
   ]
  },
  {
   "cell_type": "markdown",
   "id": "b62b3452",
   "metadata": {},
   "source": [
    "## 7. Sum of weights"
   ]
  },
  {
   "cell_type": "code",
   "execution_count": null,
   "id": "79312518",
   "metadata": {},
   "outputs": [
    {
     "data": {
      "text/plain": [
       "np.float64(0.5187709081074016)"
      ]
     },
     "execution_count": 11,
     "metadata": {},
     "output_type": "execute_result"
    }
   ],
   "source": [
    "asian_cars = data[data['origin'] == 'Asia'][['vehicle_weight', 'model_year']].head(7)\n",
    "\n",
    "X = np.array(asian_cars)\n",
    "\n",
    "XTX = np.matmul(X.T, X)\n",
    "\n",
    "XTX_inv = np.linalg.inv(XTX)\n",
    "\n",
    "y = np.array([1100, 1300, 800, 900, 1000, 1100, 1200])\n",
    "\n",
    "w = (XTX_inv @ X.T) @ y\n",
    "\n",
    "w.sum()"
   ]
  }
 ],
 "metadata": {
  "kernelspec": {
   "display_name": "ML_Zoomcamp_2025-gOR5IOAs",
   "language": "python",
   "name": "python3"
  },
  "language_info": {
   "codemirror_mode": {
    "name": "ipython",
    "version": 3
   },
   "file_extension": ".py",
   "mimetype": "text/x-python",
   "name": "python",
   "nbconvert_exporter": "python",
   "pygments_lexer": "ipython3",
   "version": "3.10.12"
  }
 },
 "nbformat": 4,
 "nbformat_minor": 5
}
