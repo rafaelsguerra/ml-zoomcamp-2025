{
 "cells": [
  {
   "cell_type": "code",
   "execution_count": 1,
   "id": "0defdd15",
   "metadata": {},
   "outputs": [],
   "source": [
    "import pandas as pd\n",
    "import numpy as np\n",
    "import matplotlib.pyplot as plt"
   ]
  },
  {
   "cell_type": "code",
   "execution_count": 2,
   "id": "ca65d094",
   "metadata": {},
   "outputs": [],
   "source": [
    "data = pd.read_csv('https://raw.githubusercontent.com/alexeygrigorev/datasets/master/car_fuel_efficiency.csv')\n",
    "data = data[['engine_displacement', 'horsepower', 'vehicle_weight', 'model_year', 'fuel_efficiency_mpg']]"
   ]
  },
  {
   "cell_type": "markdown",
   "id": "41815866",
   "metadata": {},
   "source": [
    "## EDA"
   ]
  },
  {
   "cell_type": "code",
   "execution_count": 3,
   "id": "2a43abc3",
   "metadata": {},
   "outputs": [
    {
     "data": {
      "image/png": "[encoded data removed]",
      "text/plain": [
       "<Figure size 800x500 with 1 Axes>"
      ]
     },
     "metadata": {},
     "output_type": "display_data"
    }
   ],
   "source": [
    "plt.figure(figsize=(8, 5))\n",
    "plt.gca().spines[['top', 'right']].set_visible(False)\n",
    "plt.hist(data['fuel_efficiency_mpg'], edgecolor='black')\n",
    "plt.xlabel(\"Fuel efficiency (mpg)\")\n",
    "plt.ylabel(\"Frequency\")\n",
    "plt.show()"
   ]
  },
  {
   "cell_type": "markdown",
   "id": "9e794ecf",
   "metadata": {},
   "source": [
    "## 1. Column with missing values"
   ]
  },
  {
   "cell_type": "code",
   "execution_count": 4,
   "id": "3b3ffda9",
   "metadata": {},
   "outputs": [
    {
     "data": {
      "text/plain": [
       "engine_displacement      0\n",
       "horsepower             708\n",
       "vehicle_weight           0\n",
       "model_year               0\n",
       "fuel_efficiency_mpg      0\n",
       "dtype: int64"
      ]
     },
     "execution_count": 4,
     "metadata": {},
     "output_type": "execute_result"
    }
   ],
   "source": [
    "data.isna().sum()"
   ]
  },
  {
   "cell_type": "markdown",
   "id": "73dd8535",
   "metadata": {},
   "source": [
    "## 2. Median for horsepower"
   ]
  },
  {
   "cell_type": "code",
   "execution_count": 5,
   "id": "b5ffb296",
   "metadata": {},
   "outputs": [
    {
     "data": {
      "text/plain": [
       "np.float64(149.0)"
      ]
     },
     "execution_count": 5,
     "metadata": {},
     "output_type": "execute_result"
    }
   ],
   "source": [
    "data['horsepower'].median()"
   ]
  },
  {
   "cell_type": "markdown",
   "id": "bba97c90",
   "metadata": {},
   "source": [
    "## Data preparation"
   ]
  },
  {
   "cell_type": "code",
   "execution_count": 6,
   "id": "2be6c84f",
   "metadata": {},
   "outputs": [],
   "source": [
    "n = len(data)\n",
    "n_val = int(n * .2)\n",
    "n_test = int(n * .2)\n",
    "n_train = n - n_val - n_test\n",
    "\n",
    "rand_indexes = list(data.index)\n",
    "\n",
    "np.random.seed(42)\n",
    "np.random.shuffle(rand_indexes)\n",
    "\n",
    "df_train = data.iloc[rand_indexes[:n_train]]\n",
    "df_val = data.iloc[rand_indexes[n_train:n_train + n_val]]\n",
    "df_test = data.iloc[rand_indexes[n_train + n_val:]]"
   ]
  },
  {
   "cell_type": "markdown",
   "id": "6fc4a972",
   "metadata": {},
   "source": [
    "## 3. Evaluate filling methods"
   ]
  },
  {
   "cell_type": "code",
   "execution_count": 7,
   "id": "7d84578c",
   "metadata": {},
   "outputs": [],
   "source": [
    "def train_linear_regression(X: pd.DataFrame, y: pd.Series):\n",
    "    ones = np.ones(X.shape[0])\n",
    "\n",
    "    X = np.column_stack([ones, X])\n",
    "    XTX = X.T @ X\n",
    "    XTX_inv = np.linalg.inv(XTX)\n",
    "    w_full = (XTX_inv @ X.T) @ y\n",
    "\n",
    "    return w_full[0], w_full[1:]\n",
    "\n",
    "def rmse(y, y_pred):\n",
    "    squared_error = (y - y_pred) ** 2\n",
    "    mse = squared_error.mean()\n",
    "    return np.sqrt(mse)"
   ]
  },
  {
   "cell_type": "markdown",
   "id": "647e4e72",
   "metadata": {},
   "source": [
    "### 3.1. Filling with zero"
   ]
  },
  {
   "cell_type": "code",
   "execution_count": 8,
   "id": "35a251d4",
   "metadata": {},
   "outputs": [
    {
     "name": "stdout",
     "output_type": "stream",
     "text": [
      "train dataset: 0.52\n"
     ]
    }
   ],
   "source": [
    "zero_fill = df_train.fillna(0)\n",
    "\n",
    "X_train = zero_fill.drop('fuel_efficiency_mpg', axis=1)\n",
    "y_train = zero_fill['fuel_efficiency_mpg']\n",
    "\n",
    "intercept, weights = train_linear_regression(X_train, y_train)\n",
    "\n",
    "y_pred = intercept + X_train.dot(weights)\n",
    "\n",
    "print(\"train dataset:\", round(rmse(y_train, y_pred), 2))"
   ]
  },
  {
   "cell_type": "code",
   "execution_count": 9,
   "id": "d6721acb",
   "metadata": {},
   "outputs": [
    {
     "name": "stdout",
     "output_type": "stream",
     "text": [
      "validation dataset: 0.52\n"
     ]
    }
   ],
   "source": [
    "zero_fill_val = df_val.fillna(0)\n",
    "X_val = zero_fill_val.drop('fuel_efficiency_mpg', axis=1)\n",
    "y_val = zero_fill_val['fuel_efficiency_mpg']\n",
    "\n",
    "y_pred = intercept + X_val.dot(weights)\n",
    "print(\"validation dataset:\", round(rmse(y_val, y_pred), 2))"
   ]
  },
  {
   "cell_type": "markdown",
   "id": "fdbd0f62",
   "metadata": {},
   "source": [
    "### 3.2 Filling with mean"
   ]
  },
  {
   "cell_type": "code",
   "execution_count": 10,
   "id": "5d9d6309",
   "metadata": {},
   "outputs": [
    {
     "name": "stdout",
     "output_type": "stream",
     "text": [
      "train dataset: 0.46\n"
     ]
    }
   ],
   "source": [
    "hp_mean = df_train['horsepower'].mean()\n",
    "hp_mean_train = df_train.fillna(hp_mean)\n",
    "\n",
    "X_train = hp_mean_train.drop('fuel_efficiency_mpg', axis=1)\n",
    "y_train = hp_mean_train['fuel_efficiency_mpg']\n",
    "\n",
    "intercept, weights = train_linear_regression(X_train, y_train)\n",
    "\n",
    "y_pred = intercept + X_train.dot(weights)\n",
    "print(\"train dataset:\", round(rmse(y_train, y_pred), 2))"
   ]
  },
  {
   "cell_type": "code",
   "execution_count": 11,
   "id": "78f3b1ec",
   "metadata": {},
   "outputs": [
    {
     "name": "stdout",
     "output_type": "stream",
     "text": [
      "validation dataset 0.46\n"
     ]
    }
   ],
   "source": [
    "hp_mean_val = df_val.fillna(hp_mean)\n",
    "\n",
    "X_val = hp_mean_val.drop('fuel_efficiency_mpg', axis=1)\n",
    "y_val = hp_mean_val['fuel_efficiency_mpg']\n",
    "\n",
    "y_pred = intercept + X_val.dot(weights)\n",
    "print(\"validation dataset\", round(rmse(y_val, y_pred), 2))\n"
   ]
  },
  {
   "cell_type": "markdown",
   "id": "58acdfb5",
   "metadata": {},
   "source": [
    "## 4. Evaluating with regularized regression"
   ]
  },
  {
   "cell_type": "code",
   "execution_count": null,
   "id": "c61679f5",
   "metadata": {},
   "outputs": [
    {
     "name": "stdout",
     "output_type": "stream",
     "text": [
      "r value: 0 - rmse score: 0.52\n",
      "r value: 0.01 - rmse score: 0.52\n",
      "r value: 0.1 - rmse score: 0.52\n",
      "r value: 1 - rmse score: 0.52\n",
      "r value: 5 - rmse score: 0.52\n",
      "r value: 10 - rmse score: 0.52\n",
      "r value: 100 - rmse score: 0.52\n"
     ]
    }
   ],
   "source": [
    "def train_linear_regression_reg(X: pd.DataFrame, y: pd.Series, r: float):\n",
    "    ones = np.ones(X.shape[0])\n",
    "\n",
    "    X = np.column_stack([ones, X])\n",
    "    XTX = X.T @ X\n",
    "    XTX = XTX + r * np.eye(XTX.shape[0])\n",
    "\n",
    "    XTX_inv = np.linalg.inv(XTX)\n",
    "    w_full = (XTX_inv @ X.T) @ y\n",
    "\n",
    "    return w_full[0], w_full[1:]\n",
    "\n",
    "\n",
    "regs = [0, 0.01, 0.1, 1, 5, 10, 100]\n",
    "\n",
    "X_train = df_train.drop('fuel_efficiency_mpg', axis=1).fillna(0)\n",
    "X_val = df_val.drop('fuel_efficiency_mpg', axis=1).fillna(0)\n",
    "\n",
    "y_train = df_train['fuel_efficiency_mpg']\n",
    "y_val = df_val['fuel_efficiency_mpg']\n",
    "\n",
    "for r in regs:\n",
    "    intercept, weights = train_linear_regression_reg(X_train, y_train, r)\n",
    "\n",
    "    y_pred = intercept + X_val.dot(weights)\n",
    "    score = rmse(y_val, y_pred)\n",
    "\n",
    "    print(f\"r value: {r} - rmse score: {score:.2f}\")"
   ]
  },
  {
   "cell_type": "markdown",
   "id": "c7b9f012",
   "metadata": {},
   "source": [
    "## 5. Trying different seeds"
   ]
  },
  {
   "cell_type": "code",
   "execution_count": 13,
   "id": "9fbb5e33",
   "metadata": {},
   "outputs": [
    {
     "data": {
      "text/plain": [
       "np.float64(0.007)"
      ]
     },
     "execution_count": 13,
     "metadata": {},
     "output_type": "execute_result"
    }
   ],
   "source": [
    "seeds = [0, 1, 2, 3, 4, 5, 6, 7, 8, 9]\n",
    "rmse_scores = []\n",
    "\n",
    "for s in seeds:\n",
    "    indexes = list(data.index)\n",
    "\n",
    "    np.random.seed(s)\n",
    "    np.random.shuffle(indexes)\n",
    "\n",
    "    df_train = data.iloc[indexes[:n_train]]\n",
    "    df_val = data.iloc[indexes[n_train:n_train + n_val]]\n",
    "    df_test = data.iloc[indexes[n_train + n_val:]]\n",
    "\n",
    "    X_train = df_train.drop('fuel_efficiency_mpg', axis=1).fillna(0)\n",
    "    X_val = df_val.drop('fuel_efficiency_mpg', axis=1).fillna(0)\n",
    "    y_train = df_train['fuel_efficiency_mpg']\n",
    "    y_val = df_val['fuel_efficiency_mpg']\n",
    "\n",
    "    intercept, weights = train_linear_regression(X_train, y_train)\n",
    "\n",
    "    y_pred = intercept + X_val.dot(weights)\n",
    "    rmse_scores.append(rmse(y_val, y_pred))\n",
    "\n",
    "round(np.std(rmse_scores), 3)"
   ]
  },
  {
   "cell_type": "markdown",
   "id": "c6fcc398",
   "metadata": {},
   "source": [
    "## 6. Evaluating on test dataset"
   ]
  },
  {
   "cell_type": "code",
   "execution_count": 14,
   "id": "11b455b4",
   "metadata": {},
   "outputs": [
    {
     "data": {
      "text/plain": [
       "np.float64(0.51831020260556)"
      ]
     },
     "execution_count": 14,
     "metadata": {},
     "output_type": "execute_result"
    }
   ],
   "source": [
    "indexes = list(data.index)\n",
    "\n",
    "np.random.seed(9)\n",
    "np.random.shuffle(indexes)\n",
    "\n",
    "df_train_val = data.iloc[indexes[:n_test + n_val]]\n",
    "df_test = data.iloc[indexes[n_test + n_val:]]\n",
    "\n",
    "X_train_val = df_train_val.drop('fuel_efficiency_mpg', axis=1).fillna(0)\n",
    "X_test = df_test.drop('fuel_efficiency_mpg', axis=1).fillna(0)\n",
    "y_train_val = df_train_val['fuel_efficiency_mpg']\n",
    "y_test = df_test['fuel_efficiency_mpg']\n",
    "\n",
    "intercept, weights = train_linear_regression_reg(X_train_val, y_train_val, 0.001)\n",
    "\n",
    "y_pred = intercept + X_test.dot(weights)\n",
    "\n",
    "rmse(y_test, y_pred)"
   ]
  },
  {
   "cell_type": "code",
   "execution_count": null,
   "id": "ce3dc505",
   "metadata": {},
   "outputs": [],
   "source": []
  }
 ],
 "metadata": {
  "kernelspec": {
   "display_name": "ML_Zoomcamp_2025-gOR5IOAs",
   "language": "python",
   "name": "python3"
  },
  "language_info": {
   "codemirror_mode": {
    "name": "ipython",
    "version": 3
   },
   "file_extension": ".py",
   "mimetype": "text/x-python",
   "name": "python",
   "nbconvert_exporter": "python",
   "pygments_lexer": "ipython3",
   "version": "3.10.12"
  }
 },
 "nbformat": 4,
 "nbformat_minor": 5
}
