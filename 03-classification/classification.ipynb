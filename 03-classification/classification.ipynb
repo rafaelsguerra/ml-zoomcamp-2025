{
 "cells": [
  {
   "cell_type": "code",
   "execution_count": 1,
   "id": "68d38ed5",
   "metadata": {},
   "outputs": [],
   "source": [
    "import pandas as pd\n",
    "import numpy as np\n",
    "import matplotlib.pyplot as plt\n",
    "\n",
    "from sklearn.model_selection import train_test_split\n",
    "from sklearn.metrics import mutual_info_score, accuracy_score\n",
    "from sklearn.linear_model import LogisticRegression\n",
    "from sklearn.feature_extraction import DictVectorizer"
   ]
  },
  {
   "cell_type": "code",
   "execution_count": 2,
   "id": "6e5c40d9",
   "metadata": {},
   "outputs": [
    {
     "data": {
      "text/html": [
       "<div>\n",
       "<style scoped>\n",
       "    .dataframe tbody tr th:only-of-type {\n",
       "        vertical-align: middle;\n",
       "    }\n",
       "\n",
       "    .dataframe tbody tr th {\n",
       "        vertical-align: top;\n",
       "    }\n",
       "\n",
       "    .dataframe thead th {\n",
       "        text-align: right;\n",
       "    }\n",
       "</style>\n",
       "<table border=\"1\" class=\"dataframe\">\n",
       "  <thead>\n",
       "    <tr style=\"text-align: right;\">\n",
       "      <th></th>\n",
       "      <th>lead_source</th>\n",
       "      <th>industry</th>\n",
       "      <th>number_of_courses_viewed</th>\n",
       "      <th>annual_income</th>\n",
       "      <th>employment_status</th>\n",
       "      <th>location</th>\n",
       "      <th>interaction_count</th>\n",
       "      <th>lead_score</th>\n",
       "      <th>converted</th>\n",
       "    </tr>\n",
       "  </thead>\n",
       "  <tbody>\n",
       "    <tr>\n",
       "      <th>0</th>\n",
       "      <td>paid_ads</td>\n",
       "      <td>NaN</td>\n",
       "      <td>1</td>\n",
       "      <td>79450.0</td>\n",
       "      <td>unemployed</td>\n",
       "      <td>south_america</td>\n",
       "      <td>4</td>\n",
       "      <td>0.94</td>\n",
       "      <td>1</td>\n",
       "    </tr>\n",
       "    <tr>\n",
       "      <th>1</th>\n",
       "      <td>social_media</td>\n",
       "      <td>retail</td>\n",
       "      <td>1</td>\n",
       "      <td>46992.0</td>\n",
       "      <td>employed</td>\n",
       "      <td>south_america</td>\n",
       "      <td>1</td>\n",
       "      <td>0.80</td>\n",
       "      <td>0</td>\n",
       "    </tr>\n",
       "    <tr>\n",
       "      <th>2</th>\n",
       "      <td>events</td>\n",
       "      <td>healthcare</td>\n",
       "      <td>5</td>\n",
       "      <td>78796.0</td>\n",
       "      <td>unemployed</td>\n",
       "      <td>australia</td>\n",
       "      <td>3</td>\n",
       "      <td>0.69</td>\n",
       "      <td>1</td>\n",
       "    </tr>\n",
       "    <tr>\n",
       "      <th>3</th>\n",
       "      <td>paid_ads</td>\n",
       "      <td>retail</td>\n",
       "      <td>2</td>\n",
       "      <td>83843.0</td>\n",
       "      <td>NaN</td>\n",
       "      <td>australia</td>\n",
       "      <td>1</td>\n",
       "      <td>0.87</td>\n",
       "      <td>0</td>\n",
       "    </tr>\n",
       "    <tr>\n",
       "      <th>4</th>\n",
       "      <td>referral</td>\n",
       "      <td>education</td>\n",
       "      <td>3</td>\n",
       "      <td>85012.0</td>\n",
       "      <td>self_employed</td>\n",
       "      <td>europe</td>\n",
       "      <td>3</td>\n",
       "      <td>0.62</td>\n",
       "      <td>1</td>\n",
       "    </tr>\n",
       "  </tbody>\n",
       "</table>\n",
       "</div>"
      ],
      "text/plain": [
       "    lead_source    industry  number_of_courses_viewed  annual_income  \\\n",
       "0      paid_ads         NaN                         1        79450.0   \n",
       "1  social_media      retail                         1        46992.0   \n",
       "2        events  healthcare                         5        78796.0   \n",
       "3      paid_ads      retail                         2        83843.0   \n",
       "4      referral   education                         3        85012.0   \n",
       "\n",
       "  employment_status       location  interaction_count  lead_score  converted  \n",
       "0        unemployed  south_america                  4        0.94          1  \n",
       "1          employed  south_america                  1        0.80          0  \n",
       "2        unemployed      australia                  3        0.69          1  \n",
       "3               NaN      australia                  1        0.87          0  \n",
       "4     self_employed         europe                  3        0.62          1  "
      ]
     },
     "execution_count": 2,
     "metadata": {},
     "output_type": "execute_result"
    }
   ],
   "source": [
    "data = pd.read_csv(\"https://raw.githubusercontent.com/alexeygrigorev/datasets/master/course_lead_scoring.csv\")\n",
    "data.head()"
   ]
  },
  {
   "cell_type": "markdown",
   "id": "4dfdc187",
   "metadata": {},
   "source": [
    "## Data preparation"
   ]
  },
  {
   "cell_type": "code",
   "execution_count": 3,
   "id": "2c786867",
   "metadata": {},
   "outputs": [
    {
     "data": {
      "text/plain": [
       "lead_source                  object\n",
       "industry                     object\n",
       "number_of_courses_viewed      int64\n",
       "annual_income               float64\n",
       "employment_status            object\n",
       "location                     object\n",
       "interaction_count             int64\n",
       "lead_score                  float64\n",
       "converted                     int64\n",
       "dtype: object"
      ]
     },
     "execution_count": 3,
     "metadata": {},
     "output_type": "execute_result"
    }
   ],
   "source": [
    "data.dtypes"
   ]
  },
  {
   "cell_type": "code",
   "execution_count": 4,
   "id": "86cd1355",
   "metadata": {},
   "outputs": [
    {
     "data": {
      "text/plain": [
       "lead_source                 128\n",
       "industry                    134\n",
       "number_of_courses_viewed      0\n",
       "annual_income               181\n",
       "employment_status           100\n",
       "location                     63\n",
       "interaction_count             0\n",
       "lead_score                    0\n",
       "converted                     0\n",
       "dtype: int64"
      ]
     },
     "execution_count": 4,
     "metadata": {},
     "output_type": "execute_result"
    }
   ],
   "source": [
    "data.isna().sum()"
   ]
  },
  {
   "cell_type": "code",
   "execution_count": 5,
   "id": "447644bd",
   "metadata": {},
   "outputs": [],
   "source": [
    "numerical = ['number_of_courses_viewed', 'annual_income', 'interaction_count', 'lead_score']\n",
    "categorical = ['lead_source', 'industry', 'employment_status', 'location']\n",
    "\n",
    "data[numerical] = data[numerical].fillna(0)\n",
    "data[categorical] = data[categorical].fillna('NA')"
   ]
  },
  {
   "cell_type": "markdown",
   "id": "28b621ac",
   "metadata": {},
   "source": [
    "## 1. Mode for `industry`"
   ]
  },
  {
   "cell_type": "code",
   "execution_count": 6,
   "id": "7d949daf",
   "metadata": {},
   "outputs": [
    {
     "data": {
      "text/plain": [
       "industry\n",
       "retail           203\n",
       "finance          200\n",
       "other            198\n",
       "healthcare       187\n",
       "education        187\n",
       "technology       179\n",
       "manufacturing    174\n",
       "NA               134\n",
       "Name: count, dtype: int64"
      ]
     },
     "execution_count": 6,
     "metadata": {},
     "output_type": "execute_result"
    }
   ],
   "source": [
    "data['industry'].value_counts()"
   ]
  },
  {
   "cell_type": "markdown",
   "id": "286e1059",
   "metadata": {},
   "source": [
    "## 2. Correlation matrix for numerical features"
   ]
  },
  {
   "cell_type": "code",
   "execution_count": 7,
   "id": "2f88b5d4",
   "metadata": {},
   "outputs": [
    {
     "data": {
      "image/png": "[encoded data removed]",
      "text/plain": [
       "<Figure size 640x480 with 1 Axes>"
      ]
     },
     "metadata": {},
     "output_type": "display_data"
    }
   ],
   "source": [
    "corr_matrix = data[numerical].corr()\n",
    "\n",
    "plt.imshow(corr_matrix, vmin=-1, vmax=1, cmap=\"coolwarm\")\n",
    "for x in range(len(corr_matrix)):\n",
    "    for y in range(len(corr_matrix)):\n",
    "        plt.text(x, y, f\"{corr_matrix.values[x][y]:.3f}\", ha=\"center\", va=\"center\")\n",
    "\n",
    "plt.xticks(ticks=range(0, 4), labels=numerical, rotation=30, rotation_mode=\"anchor\", ha='right')\n",
    "plt.yticks(ticks=range(0, 4), labels=numerical)\n",
    "\n",
    "plt.xticks(np.arange(0, 4)-.5, minor=True)\n",
    "plt.yticks(np.arange(0, 4)-.5, minor=True)\n",
    "plt.grid(which=\"minor\", color=\"black\", linewidth=1)\n",
    "plt.tick_params(which=\"minor\", bottom=False, left=False)\n",
    "\n",
    "plt.tight_layout()\n",
    "plt.show()"
   ]
  },
  {
   "cell_type": "markdown",
   "id": "d1f0b1ae",
   "metadata": {},
   "source": [
    "## Split the data"
   ]
  },
  {
   "cell_type": "code",
   "execution_count": 8,
   "id": "99bb12d5",
   "metadata": {},
   "outputs": [],
   "source": [
    "full_train, test = train_test_split(data, test_size=.2, random_state=42)\n",
    "train, val = train_test_split(full_train, test_size=.25, random_state=42)\n",
    "\n",
    "df_train = train.drop('converted', axis=1)\n",
    "y_train = train['converted']\n",
    "\n",
    "df_val = val.drop('converted', axis=1)\n",
    "y_val = val['converted']\n",
    "\n",
    "df_test = test.drop('converted', axis=1)\n",
    "y_test = test['converted']"
   ]
  },
  {
   "cell_type": "markdown",
   "id": "bcfa44a4",
   "metadata": {},
   "source": [
    "## 3. Mutual info"
   ]
  },
  {
   "cell_type": "code",
   "execution_count": 9,
   "id": "0dab0324",
   "metadata": {},
   "outputs": [
    {
     "name": "stdout",
     "output_type": "stream",
     "text": [
      "Mutual info between 'converted' and: \n",
      "'lead_source': 0.04\n",
      "'industry': 0.01\n",
      "'employment_status': 0.01\n",
      "'location': 0.00\n"
     ]
    }
   ],
   "source": [
    "print(\"Mutual info between 'converted' and: \")\n",
    "\n",
    "for col in df_train[categorical]:\n",
    "    print(f\"'{col}': {mutual_info_score(df_train[col], y_train):.2f}\")"
   ]
  },
  {
   "cell_type": "markdown",
   "id": "bae4f8df",
   "metadata": {},
   "source": [
    "## 4. Training a logistic regression"
   ]
  },
  {
   "cell_type": "code",
   "execution_count": 10,
   "id": "c0dfb543",
   "metadata": {},
   "outputs": [
    {
     "data": {
      "text/plain": [
       "0.7"
      ]
     },
     "execution_count": 10,
     "metadata": {},
     "output_type": "execute_result"
    }
   ],
   "source": [
    "vec = DictVectorizer(sparse=False)\n",
    "\n",
    "train_dict = df_train.to_dict(orient=\"records\")\n",
    "X_train = vec.fit_transform(train_dict)\n",
    "X_val = vec.transform(df_val.to_dict(orient=\"records\"))\n",
    "\n",
    "logreg = LogisticRegression(random_state=42, solver='liblinear', C=1, max_iter=1000)\n",
    "logreg.fit(X_train, y_train)\n",
    "y_pred = logreg.predict_proba(X_val)[:, 1]\n",
    "y_pred = [1 if p > 0.5 else 0 for p in y_pred]\n",
    "\n",
    "score = accuracy_score(y_val, y_pred)\n",
    "round(score, 2)"
   ]
  },
  {
   "cell_type": "markdown",
   "id": "71dd6380",
   "metadata": {},
   "source": [
    "## 5. Feature filtering"
   ]
  },
  {
   "cell_type": "code",
   "execution_count": 11,
   "id": "9c961ecb",
   "metadata": {},
   "outputs": [
    {
     "data": {
      "text/plain": [
       "{'lead_source': 0.0034129692832765013,\n",
       " 'industry': 0.0,\n",
       " 'number_of_courses_viewed': 0.14334470989761094,\n",
       " 'annual_income': 0.15358361774744034,\n",
       " 'employment_status': 0.0034129692832763903,\n",
       " 'location': 0.010238907849829393,\n",
       " 'interaction_count': 0.14334470989761094,\n",
       " 'lead_score': 0.0068259385665528916}"
      ]
     },
     "execution_count": 11,
     "metadata": {},
     "output_type": "execute_result"
    }
   ],
   "source": [
    "scores = {}\n",
    "\n",
    "for col in df_train.columns:\n",
    "    train_dict = df_train.drop(col, axis=1).to_dict(orient=\"records\")\n",
    "    X_train = vec.fit_transform(train_dict)\n",
    "    X_val = vec.transform(df_val.drop(col, axis=1).to_dict(orient=\"records\"))\n",
    "\n",
    "    logreg = LogisticRegression(random_state=42, solver='liblinear', C=1, max_iter=1000)\n",
    "    logreg.fit(X_train, y_train)\n",
    "    y_pred = logreg.predict_proba(X_val)[:, 1]\n",
    "    y_pred = [1 if p > 0.5 else 0 for p in y_pred]\n",
    "\n",
    "    scores[col] = abs(score - accuracy_score(y_val, y_pred))\n",
    "\n",
    "scores"
   ]
  },
  {
   "cell_type": "markdown",
   "id": "e10e0e2c",
   "metadata": {},
   "source": [
    "## 6. Regularized logistic regression\n"
   ]
  },
  {
   "cell_type": "code",
   "execution_count": 12,
   "id": "b563f367",
   "metadata": {},
   "outputs": [
    {
     "data": {
      "text/plain": [
       "{0.01: 0.6962457337883959,\n",
       " 0.1: 0.6996587030716723,\n",
       " 1: 0.7064846416382252,\n",
       " 10: 0.7064846416382252,\n",
       " 100: 0.7064846416382252}"
      ]
     },
     "execution_count": 12,
     "metadata": {},
     "output_type": "execute_result"
    }
   ],
   "source": [
    "C = [0.01, 0.1, 1, 10, 100]\n",
    "scores = {}\n",
    "\n",
    "for c in C:\n",
    "    train_dict = df_train.drop(col, axis=1).to_dict(orient=\"records\")\n",
    "    X_train = vec.fit_transform(train_dict)\n",
    "    X_val = vec.transform(df_val.drop(col, axis=1).to_dict(orient=\"records\"))\n",
    "\n",
    "    logreg = LogisticRegression(random_state=42, solver='liblinear', C=c, max_iter=1000)\n",
    "    logreg.fit(X_train, y_train)\n",
    "    y_pred = logreg.predict_proba(X_val)[:, 1]\n",
    "    y_pred = [1 if p > 0.5 else 0 for p in y_pred]\n",
    "\n",
    "    scores[c] = accuracy_score(y_val, y_pred)\n",
    "\n",
    "scores"
   ]
  }
 ],
 "metadata": {
  "kernelspec": {
   "display_name": "ML_Zoomcamp_2025-gOR5IOAs",
   "language": "python",
   "name": "python3"
  },
  "language_info": {
   "codemirror_mode": {
    "name": "ipython",
    "version": 3
   },
   "file_extension": ".py",
   "mimetype": "text/x-python",
   "name": "python",
   "nbconvert_exporter": "python",
   "pygments_lexer": "ipython3",
   "version": "3.10.12"
  }
 },
 "nbformat": 4,
 "nbformat_minor": 5
}
